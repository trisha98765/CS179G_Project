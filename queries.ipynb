{
 "cells": [
  {
   "cell_type": "code",
   "execution_count": 1,
   "metadata": {},
   "outputs": [],
   "source": [
    "# Import libraries\n",
    "import pandas as pd\n",
    "import pyspark\n",
    "from pyspark.sql import SparkSession\n",
    "from pyspark.sql.functions import avg, max, min, month, year, format_number, col, count, round\n",
    "import time"
   ]
  },
  {
   "cell_type": "code",
   "execution_count": 2,
   "metadata": {},
   "outputs": [
    {
     "name": "stderr",
     "output_type": "stream",
     "text": [
      "23/11/29 00:56:05 WARN NativeCodeLoader: Unable to load native-hadoop library for your platform... using builtin-java classes where applicable\n",
      "Setting default log level to \"WARN\".\n",
      "To adjust logging level use sc.setLogLevel(newLevel). For SparkR, use setLogLevel(newLevel).\n",
      "                                                                                \r"
     ]
    }
   ],
   "source": [
    "# Start a Spark session\n",
    "from pyspark.sql import SparkSession\n",
    "# change number of workers in master argument below (1,2,4,*)\n",
    "spark = SparkSession.builder \\\n",
    "    .config(\"spark.jars\", \"/usr/share/java/mysql-connector-j-8.0.31.jar\") \\\n",
    "    .master(\"local[*]\").appName(\"AirportQueries\").getOrCreate()\n",
    "# Read in data\n",
    "file_path = 'subset_1.csv'\n",
    "data = spark.read.csv(file_path, header=True)"
   ]
  },
  {
   "attachments": {},
   "cell_type": "markdown",
   "metadata": {},
   "source": [
    "Average baseFare during the summer months (June, July, August 2022) per startingAirport"
   ]
  },
  {
   "cell_type": "code",
   "execution_count": 3,
   "metadata": {},
   "outputs": [
    {
     "name": "stderr",
     "output_type": "stream",
     "text": [
      "[Stage 1:>                                                          (0 + 2) / 2]\r"
     ]
    },
    {
     "name": "stdout",
     "output_type": "stream",
     "text": [
      "+---------------+----------------+\n",
      "|startingAirport|average_baseFare|\n",
      "+---------------+----------------+\n",
      "|            OAK|          472.28|\n",
      "|            LGA|          278.70|\n",
      "|            BOS|          257.92|\n",
      "|            EWR|          280.52|\n",
      "|            DEN|          338.53|\n",
      "|            IAD|          345.85|\n",
      "|            CLT|          291.22|\n",
      "|            MIA|          267.14|\n",
      "|            DFW|          277.27|\n",
      "|            SFO|          457.08|\n",
      "|            ATL|          282.64|\n",
      "|            ORD|          266.12|\n",
      "|            DTW|          287.27|\n",
      "|            LAX|          386.33|\n",
      "|            JFK|          320.49|\n",
      "|            PHL|          313.33|\n",
      "+---------------+----------------+\n",
      "\n"
     ]
    },
    {
     "name": "stderr",
     "output_type": "stream",
     "text": [
      "                                                                                \r"
     ]
    }
   ],
   "source": [
    "# convert 'flightDate' column type to date\n",
    "data = data.withColumn('flightDate', data['flightDate'].cast('date'))\n",
    "# filter flights for June, July, August (summer months) in 2022\n",
    "data_filtered = data.filter((month(data.flightDate).isin(6, 7, 8)) \\\n",
    "    & (year(data.flightDate) == 2022))\n",
    "# group by startingAirport and find the average baseFare\n",
    "avg_flight_prices = data_filtered.groupBy(\"startingAirport\") \\\n",
    "    .agg(format_number(avg(\"baseFare\"), 2).alias(\"average_baseFare\"))\n",
    "# result\n",
    "avg_flight_prices.show()"
   ]
  },
  {
   "attachments": {},
   "cell_type": "markdown",
   "metadata": {},
   "source": [
    "Average baseFare when startingAirport = 'SFO' and destinationAirport = 'LAX'"
   ]
  },
  {
   "cell_type": "code",
   "execution_count": 4,
   "metadata": {},
   "outputs": [
    {
     "name": "stderr",
     "output_type": "stream",
     "text": [
      "[Stage 4:===================================================>     (10 + 1) / 11]\r"
     ]
    },
    {
     "name": "stdout",
     "output_type": "stream",
     "text": [
      "+------------------+\n",
      "|  average_baseFare|\n",
      "+------------------+\n",
      "|167.99256745904322|\n",
      "+------------------+\n",
      "\n"
     ]
    },
    {
     "name": "stderr",
     "output_type": "stream",
     "text": [
      "                                                                                \r"
     ]
    }
   ],
   "source": [
    "average_basefare = data.filter((data.startingAirport == 'SFO') & (data.destinationAirport == 'LAX'))\\\n",
    "    .select(avg(data.baseFare).alias('average_baseFare'))\n",
    "average_basefare.show()"
   ]
  },
  {
   "attachments": {},
   "cell_type": "markdown",
   "metadata": {},
   "source": [
    "Average number of flights and average cost per starting airport"
   ]
  },
  {
   "cell_type": "code",
   "execution_count": 5,
   "metadata": {},
   "outputs": [
    {
     "name": "stderr",
     "output_type": "stream",
     "text": [
      "[Stage 8:===================================================>     (10 + 1) / 11]\r"
     ]
    },
    {
     "name": "stdout",
     "output_type": "stream",
     "text": [
      "+---------------+----------------+-------+\n",
      "|startingAirport|avgFlightsPerDay|avgCost|\n",
      "+---------------+----------------+-------+\n",
      "|            OAK|            2806|  468.8|\n",
      "|            LGA|            4913| 271.47|\n",
      "|            BOS|            4793|  258.6|\n",
      "|            EWR|            3279|  271.4|\n",
      "|            DEN|            3880| 310.66|\n",
      "|            IAD|            2897| 340.65|\n",
      "|            CLT|            4341| 281.34|\n",
      "|            MIA|            4040| 264.34|\n",
      "|            DFW|            4507| 258.69|\n",
      "|            SFO|            4686| 419.31|\n",
      "|            ATL|            4242| 271.78|\n",
      "|            ORD|            4411| 249.54|\n",
      "|            DTW|            3695| 289.21|\n",
      "|            LAX|            6665| 360.35|\n",
      "|            JFK|            3493| 340.25|\n",
      "|            PHL|            3837| 309.48|\n",
      "+---------------+----------------+-------+\n",
      "\n"
     ]
    },
    {
     "name": "stderr",
     "output_type": "stream",
     "text": [
      "                                                                                \r"
     ]
    }
   ],
   "source": [
    "# average number of flights per starting airport\n",
    "avg_flights_per_day = data.groupBy(\"startingAirport\", \"flightDate\") \\\n",
    "    .agg(count(\"legId\").alias(\"numFlightsPerDay\")) \\\n",
    "    .groupBy(\"startingAirport\") \\\n",
    "    .agg(round(avg(\"numFlightsPerDay\")).cast(\"integer\").alias(\"avgFlightsPerDay\"))\n",
    "# average cost per starting airport rounded to two decimal places\n",
    "avg_cost_per_airport = data.groupBy(\"startingAirport\") \\\n",
    "    .agg(round(avg(\"baseFare\"), 2).alias(\"avgCost\"))\n",
    "# join the two results based on startingAirport\n",
    "result = avg_flights_per_day.join(avg_cost_per_airport, \"startingAirport\")\n",
    "# result\n",
    "result.show()"
   ]
  },
  {
   "attachments": {},
   "cell_type": "markdown",
   "metadata": {},
   "source": [
    "Airport with the maximum baseFare in the dataset"
   ]
  },
  {
   "cell_type": "code",
   "execution_count": 6,
   "metadata": {},
   "outputs": [
    {
     "name": "stderr",
     "output_type": "stream",
     "text": [
      "[Stage 22:==================================================>     (10 + 1) / 11]\r"
     ]
    },
    {
     "name": "stdout",
     "output_type": "stream",
     "text": [
      "+------------------+------------+\n",
      "|destinationAirport|max_baseFare|\n",
      "+------------------+------------+\n",
      "|               LGA|      999.99|\n",
      "|               SFO|      999.99|\n",
      "+------------------+------------+\n",
      "\n"
     ]
    },
    {
     "name": "stderr",
     "output_type": "stream",
     "text": [
      "                                                                                \r"
     ]
    }
   ],
   "source": [
    "# group by destinationAirport and find the maximum baseFare\n",
    "max_basefare_per_destination = data.groupBy(\"destinationAirport\").agg(max(\"baseFare\").alias(\"max_baseFare\"))\n",
    "# destination(s) with the highest baseFare\n",
    "max_expensive_destinations = max_basefare_per_destination.filter(max_basefare_per_destination.max_baseFare\\\n",
    "     == max_basefare_per_destination.agg(max(\"max_baseFare\")).collect()[0][0])\n",
    "# result\n",
    "max_expensive_destinations.show()"
   ]
  },
  {
   "attachments": {},
   "cell_type": "markdown",
   "metadata": {},
   "source": [
    "Airport with the minimum baseFare in the dataset"
   ]
  },
  {
   "cell_type": "code",
   "execution_count": 7,
   "metadata": {},
   "outputs": [
    {
     "name": "stderr",
     "output_type": "stream",
     "text": [
      "[Stage 31:==================================================>     (10 + 1) / 11]\r"
     ]
    },
    {
     "name": "stdout",
     "output_type": "stream",
     "text": [
      "+------------------+------------+\n",
      "|destinationAirport|min_baseFare|\n",
      "+------------------+------------+\n",
      "|               ATL|        0.41|\n",
      "|               BOS|        0.41|\n",
      "|               DFW|        0.41|\n",
      "|               DTW|        0.41|\n",
      "|               EWR|        0.41|\n",
      "|               LGA|        0.41|\n",
      "|               MIA|        0.41|\n",
      "|               ORD|        0.41|\n",
      "+------------------+------------+\n",
      "\n"
     ]
    },
    {
     "name": "stderr",
     "output_type": "stream",
     "text": [
      "                                                                                \r"
     ]
    }
   ],
   "source": [
    "# group by destinationAirport and find the minimum baseFare\n",
    "min_basefare_per_destination = data.groupBy(\"destinationAirport\").agg(min(\"baseFare\").alias(\"min_baseFare\"))\n",
    "# destination(s) with the lowet baseFare\n",
    "min_expensive_destinations = min_basefare_per_destination.filter(min_basefare_per_destination.min_baseFare == \\\n",
    "    min_basefare_per_destination.agg(min(\"min_baseFare\")).collect()[0][0])\n",
    "# result\n",
    "min_expensive_destinations.show()"
   ]
  },
  {
   "attachments": {},
   "cell_type": "markdown",
   "metadata": {},
   "source": [
    "Least expensive flight, most expensive flight, average flight cost per destination airport"
   ]
  },
  {
   "cell_type": "code",
   "execution_count": 8,
   "metadata": {},
   "outputs": [
    {
     "name": "stderr",
     "output_type": "stream",
     "text": [
      "[Stage 34:==================================================>     (10 + 1) / 11]\r"
     ]
    },
    {
     "name": "stdout",
     "output_type": "stream",
     "text": [
      "+------------------+------------+------------+------------+\n",
      "|destinationAirport|min_baseFare|max_baseFare|avg_baseFare|\n",
      "+------------------+------------+------------+------------+\n",
      "|               ATL|        0.41|      999.95|      275.45|\n",
      "|               BOS|        0.41|      999.07|      273.08|\n",
      "|               CLT|        10.0|      999.07|      281.73|\n",
      "|               DEN|        10.2|      998.14|      316.83|\n",
      "|               DFW|        0.41|      999.02|      261.74|\n",
      "|               DTW|        0.41|      998.15|      298.94|\n",
      "|               EWR|        0.41|      999.07|      284.63|\n",
      "|               IAD|      100.46|      999.07|      339.03|\n",
      "|               JFK|      100.46|      999.07|      336.71|\n",
      "|               LAX|         1.0|      997.21|      335.76|\n",
      "|               LGA|        0.41|      999.99|      269.55|\n",
      "|               MIA|        0.41|      999.08|      260.17|\n",
      "|               OAK|         1.0|      999.42|      480.79|\n",
      "|               ORD|        0.41|      999.95|      261.97|\n",
      "|               PHL|         1.0|      999.08|      319.72|\n",
      "|               SFO|       10.58|      999.99|      403.76|\n",
      "+------------------+------------+------------+------------+\n",
      "\n"
     ]
    },
    {
     "name": "stderr",
     "output_type": "stream",
     "text": [
      "                                                                                \r"
     ]
    }
   ],
   "source": [
    "# group by destinationAirport, find the maximum baseFare\n",
    "max_min_avg_expensive_destinations = data.groupBy(\"destinationAirport\").agg(min(\"baseFare\").alias(\"min_baseFare\"), \\\n",
    "    max(\"baseFare\").alias(\"max_baseFare\"), format_number(avg(\"baseFare\"),2).alias(\"avg_baseFare\"))\n",
    "# show the result\n",
    "max_min_avg_expensive_destinations.show()"
   ]
  },
  {
   "attachments": {},
   "cell_type": "markdown",
   "metadata": {},
   "source": [
    "For each airline, show the most expensive flight and the corresponding start and destination airport. Only show the flights with one leg (meaning no layovers). This was done because some flights involved multiple different airlines."
   ]
  },
  {
   "cell_type": "code",
   "execution_count": 9,
   "metadata": {},
   "outputs": [
    {
     "name": "stderr",
     "output_type": "stream",
     "text": [
      "                                                                                \r"
     ]
    },
    {
     "name": "stdout",
     "output_type": "stream",
     "text": [
      "+-------------------+---------------+------------------+--------+\n",
      "|segmentsAirlineName|startingAirport|destinationAirport|baseFare|\n",
      "+-------------------+---------------+------------------+--------+\n",
      "|    Alaska Airlines|            JFK|               SFO|   99.53|\n",
      "|  American Airlines|            CLT|               MIA|   99.53|\n",
      "|              Delta|            JFK|               SFO|   99.53|\n",
      "|  Frontier Airlines|            ATL|               PHL|   99.89|\n",
      "|    JetBlue Airways|            EWR|               SFO|   99.53|\n",
      "|    Spirit Airlines|            ATL|               DTW|    99.0|\n",
      "|             United|            EWR|               SFO|   99.53|\n",
      "+-------------------+---------------+------------------+--------+\n",
      "\n"
     ]
    },
    {
     "name": "stderr",
     "output_type": "stream",
     "text": [
      "                                                                                \r"
     ]
    }
   ],
   "source": [
    "# filter out one leg flights only\n",
    "filtered_data_oneleg = data.filter(~col(\"segmentsAirlineName\").contains(\"||\"))\n",
    "# find the most expensive flight, grouped by airline name\n",
    "most_expensive_per_airline = filtered_data_oneleg.groupBy(\"segmentsAirlineName\") \\\n",
    "    .agg(max(\"baseFare\").alias(\"maxBaseFare\"))\n",
    "# retrieve the rows with the highest baseFare for each airline and remove duplicates\n",
    "expensive_flights_info_oneleg = filtered_data_oneleg.join(most_expensive_per_airline.withColumnRenamed(\"segmentsAirlineName\", \"max_segmentsAirlineName\"),\n",
    "                                            (filtered_data_oneleg.baseFare == most_expensive_per_airline.maxBaseFare) &\n",
    "                                            (filtered_data_oneleg.segmentsAirlineName == most_expensive_per_airline.segmentsAirlineName),\n",
    "                                            \"inner\") \\\n",
    "    .select(\"segmentsAirlineName\", \"startingAirport\", \"destinationAirport\", \"baseFare\").dropDuplicates([\"segmentsAirlineName\"]) \n",
    "# show the result\n",
    "expensive_flights_info_oneleg.show()"
   ]
  },
  {
   "attachments": {},
   "cell_type": "markdown",
   "metadata": {},
   "source": [
    "Flights with two legs, could involve the same airline twice or two different airlines."
   ]
  },
  {
   "cell_type": "code",
   "execution_count": 10,
   "metadata": {},
   "outputs": [
    {
     "name": "stderr",
     "output_type": "stream",
     "text": [
      "[Stage 51:=============================>                            (1 + 1) / 2]\r"
     ]
    },
    {
     "name": "stdout",
     "output_type": "stream",
     "text": [
      "+--------------------+---------------+------------------+--------+\n",
      "| segmentsAirlineName|startingAirport|destinationAirport|baseFare|\n",
      "+--------------------+---------------+------------------+--------+\n",
      "|Alaska Airlines||...|            OAK|               JFK|  997.58|\n",
      "|Alaska Airlines||...|            SFO|               CLT|  998.14|\n",
      "|Alaska Airlines||...|            SFO|               OAK|  719.21|\n",
      "|Alaska Airlines||...|            JFK|               LAX|  378.61|\n",
      "|American Airlines...|            CLT|               PHL|  378.61|\n",
      "|American Airlines...|            MIA|               JFK|  3163.0|\n",
      "|  Cape Air||Cape Air|            JFK|               BOS|  747.72|\n",
      "|     Cape Air||Delta|            BOS|               JFK|  625.95|\n",
      "|Cape Air||JetBlue...|            BOS|               LGA|  632.15|\n",
      "|    Cape Air||United|            BOS|               EWR|  672.46|\n",
      "|Delta||Alaska Air...|            MIA|               SFO|  996.28|\n",
      "|     Delta||Cape Air|            LGA|               BOS|  685.95|\n",
      "|        Delta||Delta|            SFO|               LAX|  378.61|\n",
      "|       Delta||United|            JFK|               IAD|  378.61|\n",
      "|Frontier Airlines...|            LGA|               ATL|    99.9|\n",
      "|Hawaiian Airlines...|            OAK|               SFO|  569.27|\n",
      "|Hawaiian Airlines...|            OAK|               JFK|  958.42|\n",
      "|Hawaiian Airlines...|            OAK|               SFO|  753.73|\n",
      "|JetBlue Airways||...|            JFK|               MIA|  3163.0|\n",
      "|JetBlue Airways||...|            BOS|               JFK|   965.4|\n",
      "+--------------------+---------------+------------------+--------+\n",
      "only showing top 20 rows\n",
      "\n"
     ]
    },
    {
     "name": "stderr",
     "output_type": "stream",
     "text": [
      "                                                                                \r"
     ]
    }
   ],
   "source": [
    "# airline name column contains '||' once means its a two leg flight\n",
    "filtered_data_twoleg = data.filter(col(\"segmentsAirlineName\").rlike(r'^[^|]*\\|{2}[^|]*$'))\n",
    "# find most expensive flight, grouped by airline\n",
    "most_expensive_per_airline = filtered_data_twoleg.groupBy(\"segmentsAirlineName\") \\\n",
    "    .agg(max(\"baseFare\").alias(\"maxBaseFare\"))\n",
    "# retrieve the rows with the highest baseFare for each airline and remove duplicates\n",
    "expensive_flights_info_twoleg = filtered_data_twoleg.join(most_expensive_per_airline.withColumnRenamed(\"segmentsAirlineName\", \"max_segmentsAirlineName\"),\n",
    "                                            (filtered_data_twoleg.baseFare == most_expensive_per_airline.maxBaseFare) &\n",
    "                                            (filtered_data_twoleg.segmentsAirlineName == most_expensive_per_airline.segmentsAirlineName),\n",
    "                                            \"inner\") \\\n",
    "    .select(\"segmentsAirlineName\", \"startingAirport\", \"destinationAirport\", \"baseFare\").dropDuplicates([\"segmentsAirlineName\"]) \n",
    "\n",
    "expensive_flights_info_twoleg.show()"
   ]
  },
  {
   "cell_type": "code",
   "execution_count": 11,
   "metadata": {},
   "outputs": [
    {
     "name": "stderr",
     "output_type": "stream",
     "text": [
      "                                                                                \r"
     ]
    },
    {
     "name": "stdout",
     "output_type": "stream",
     "text": [
      "+--------------------+---------------+------------------+--------+\n",
      "| segmentsAirlineName|startingAirport|destinationAirport|baseFare|\n",
      "+--------------------+---------------+------------------+--------+\n",
      "|Alaska Airlines||...|            MIA|               OAK|  997.21|\n",
      "|Alaska Airlines||...|            OAK|               LGA|  686.51|\n",
      "|Alaska Airlines||...|            OAK|               LGA|  746.05|\n",
      "|Alaska Airlines||...|            SFO|               CLT|   489.3|\n",
      "|Alaska Airlines||...|            SFO|               ORD|  657.68|\n",
      "|Alaska Airlines||...|            SFO|               LAX|   610.5|\n",
      "|Alaska Airlines||...|            IAD|               OAK|  885.58|\n",
      "|Alaska Airlines||...|            EWR|               OAK|  885.59|\n",
      "|Alaska Airlines||...|            OAK|               DTW|  885.58|\n",
      "|American Airlines...|            CLT|               BOS|  746.05|\n",
      "|American Airlines...|            DFW|               BOS|  519.44|\n",
      "|American Airlines...|            MIA|               IAD|  330.61|\n",
      "|American Airlines...|            OAK|               SFO|  686.51|\n",
      "|American Airlines...|            LAX|               DEN|  664.47|\n",
      "|American Airlines...|            PHL|               JFK|  978.42|\n",
      "|American Airlines...|            CLT|               DFW|   702.6|\n",
      "|American Airlines...|            LAX|               DEN|  801.21|\n",
      "|American Airlines...|            ORD|               DFW|  908.83|\n",
      "|Boutique Air||Bou...|            DEN|               LAX|  582.61|\n",
      "|Boutique Air||Bou...|            DFW|               DEN|  625.12|\n",
      "+--------------------+---------------+------------------+--------+\n",
      "only showing top 20 rows\n",
      "\n"
     ]
    }
   ],
   "source": [
    "# if the column contains \"||\" twice, it's a three leg flight\n",
    "filtered_data_threeleg = data.filter(col(\"segmentsAirlineName\").rlike(r'^([^|]*\\|{2}[^|]*){2}$'))\n",
    "# find the most expensive, group by airline\n",
    "most_expensive_per_airline = filtered_data_threeleg.groupBy(\"segmentsAirlineName\") \\\n",
    "    .agg(max(\"baseFare\").alias(\"maxBaseFare\"))\n",
    "# retrieve the rows with the highest baseFare for each airline and remove duplicates\n",
    "expensive_flights_info_threeleg = filtered_data_threeleg.join(most_expensive_per_airline.withColumnRenamed(\"segmentsAirlineName\", \"max_segmentsAirlineName\"),\n",
    "                                            (filtered_data_threeleg.baseFare == most_expensive_per_airline.maxBaseFare) &\n",
    "                                            (filtered_data_threeleg.segmentsAirlineName == most_expensive_per_airline.segmentsAirlineName),\n",
    "                                            \"inner\") \\\n",
    "    .select(\"segmentsAirlineName\", \"startingAirport\", \"destinationAirport\", \"baseFare\").dropDuplicates([\"segmentsAirlineName\"]) \n",
    "\n",
    "expensive_flights_info_threeleg.show()"
   ]
  },
  {
   "cell_type": "code",
   "execution_count": 12,
   "metadata": {},
   "outputs": [
    {
     "name": "stderr",
     "output_type": "stream",
     "text": [
      "[Stage 64:==================================================>     (10 + 1) / 11]\r"
     ]
    },
    {
     "name": "stdout",
     "output_type": "stream",
     "text": [
      "+---------------+----------------------+\n",
      "|startingAirport|avgTotalTravelDistance|\n",
      "+---------------+----------------------+\n",
      "|            OAK|     2374.689045971551|\n",
      "|            SFO|    2320.9646963630603|\n",
      "|            LAX|    2203.1726953873203|\n",
      "|            MIA|     1624.295997371626|\n",
      "|            DEN|    1610.6157763633134|\n",
      "|            JFK|     1459.748781266927|\n",
      "|            EWR|     1458.600701776437|\n",
      "|            LGA|     1426.191106078016|\n",
      "|            PHL|    1421.3307705924203|\n",
      "|            DFW|    1396.6878585451097|\n",
      "|            BOS|     1390.902419422506|\n",
      "|            IAD|     1340.716838688424|\n",
      "|            DTW|    1337.3763149289214|\n",
      "|            ATL|    1296.7258822217589|\n",
      "|            CLT|    1252.5702858668121|\n",
      "|            ORD|    1167.2054200298282|\n",
      "+---------------+----------------------+\n",
      "\n"
     ]
    },
    {
     "name": "stderr",
     "output_type": "stream",
     "text": [
      "                                                                                \r"
     ]
    }
   ],
   "source": [
    "#  average total travel distance per starting airport\n",
    "avg_distance_per_starting_airport = data.groupBy(\"startingAirport\") \\\n",
    "    .agg(avg(\"totalTravelDistance\").alias(\"avgTotalTravelDistance\"))\n",
    "# sort by highest average total travel distance\n",
    "sorted_avg_distance = avg_distance_per_starting_airport.orderBy(\"avgTotalTravelDistance\", ascending=False)\n",
    "# result\n",
    "sorted_avg_distance.show()"
   ]
  }
 ],
 "metadata": {
  "kernelspec": {
   "display_name": "Python 3 (ipykernel)",
   "language": "python",
   "name": "python3"
  },
  "language_info": {
   "codemirror_mode": {
    "name": "ipython",
    "version": 3
   },
   "file_extension": ".py",
   "mimetype": "text/x-python",
   "name": "python",
   "nbconvert_exporter": "python",
   "pygments_lexer": "ipython3",
   "version": "3.11.4"
  }
 },
 "nbformat": 4,
 "nbformat_minor": 4
}
